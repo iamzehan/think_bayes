{
  "nbformat": 4,
  "nbformat_minor": 0,
  "metadata": {
    "colab": {
      "name": "Start.ipynb",
      "provenance": [],
      "mount_file_id": "1_cTXMbjAZgcElBjEyzs1HL-MHKnX9_4l",
      "authorship_tag": "ABX9TyPsI0nrhjMS1fGv2CqBUG+G",
      "include_colab_link": true
    },
    "kernelspec": {
      "name": "python3",
      "display_name": "Python 3"
    },
    "language_info": {
      "name": "python"
    }
  },
  "cells": [
    {
      "cell_type": "markdown",
      "metadata": {
        "id": "view-in-github",
        "colab_type": "text"
      },
      "source": [
        "<a href=\"https://colab.research.google.com/github/iamzehan/think_stats/blob/main/Start.ipynb\" target=\"_parent\"><img src=\"https://colab.research.google.com/assets/colab-badge.svg\" alt=\"Open In Colab\"/></a>"
      ]
    },
    {
      "cell_type": "code",
      "execution_count": null,
      "metadata": {
        "colab": {
          "base_uri": "https://localhost:8080/"
        },
        "id": "LRC3gX1GBm7e",
        "outputId": "53764994-cdf6-4ae7-e8e2-3396cbab6fdd"
      },
      "outputs": [
        {
          "output_type": "stream",
          "name": "stdout",
          "text": [
            "/content/drive/MyDrive/Think Bayes/Chapter 1\n"
          ]
        }
      ],
      "source": [
        "%cd '/content/drive/MyDrive/Think Bayes/Chapter 1'"
      ]
    },
    {
      "cell_type": "code",
      "source": [
        "import pandas as pd\n",
        "gss=pd.read_csv('./Dataset/gss_bayes.csv',index_col=0)\n",
        "gss.head()"
      ],
      "metadata": {
        "colab": {
          "base_uri": "https://localhost:8080/",
          "height": 238
        },
        "id": "-TY0GPChCNT5",
        "outputId": "2f7fdd41-e578-4dd8-cea7-c47b7fccfc66"
      },
      "execution_count": null,
      "outputs": [
        {
          "output_type": "execute_result",
          "data": {
            "text/plain": [
              "        year   age  sex  polviews  partyid  indus10\n",
              "caseid                                             \n",
              "1       1974  21.0    1       4.0      2.0   4970.0\n",
              "2       1974  41.0    1       5.0      0.0   9160.0\n",
              "5       1974  58.0    2       6.0      1.0   2670.0\n",
              "6       1974  30.0    1       5.0      4.0   6870.0\n",
              "7       1974  48.0    1       5.0      4.0   7860.0"
            ],
            "text/html": [
              "\n",
              "  <div id=\"df-c97ac011-fae9-4978-be58-0044cd58dc25\">\n",
              "    <div class=\"colab-df-container\">\n",
              "      <div>\n",
              "<style scoped>\n",
              "    .dataframe tbody tr th:only-of-type {\n",
              "        vertical-align: middle;\n",
              "    }\n",
              "\n",
              "    .dataframe tbody tr th {\n",
              "        vertical-align: top;\n",
              "    }\n",
              "\n",
              "    .dataframe thead th {\n",
              "        text-align: right;\n",
              "    }\n",
              "</style>\n",
              "<table border=\"1\" class=\"dataframe\">\n",
              "  <thead>\n",
              "    <tr style=\"text-align: right;\">\n",
              "      <th></th>\n",
              "      <th>year</th>\n",
              "      <th>age</th>\n",
              "      <th>sex</th>\n",
              "      <th>polviews</th>\n",
              "      <th>partyid</th>\n",
              "      <th>indus10</th>\n",
              "    </tr>\n",
              "    <tr>\n",
              "      <th>caseid</th>\n",
              "      <th></th>\n",
              "      <th></th>\n",
              "      <th></th>\n",
              "      <th></th>\n",
              "      <th></th>\n",
              "      <th></th>\n",
              "    </tr>\n",
              "  </thead>\n",
              "  <tbody>\n",
              "    <tr>\n",
              "      <th>1</th>\n",
              "      <td>1974</td>\n",
              "      <td>21.0</td>\n",
              "      <td>1</td>\n",
              "      <td>4.0</td>\n",
              "      <td>2.0</td>\n",
              "      <td>4970.0</td>\n",
              "    </tr>\n",
              "    <tr>\n",
              "      <th>2</th>\n",
              "      <td>1974</td>\n",
              "      <td>41.0</td>\n",
              "      <td>1</td>\n",
              "      <td>5.0</td>\n",
              "      <td>0.0</td>\n",
              "      <td>9160.0</td>\n",
              "    </tr>\n",
              "    <tr>\n",
              "      <th>5</th>\n",
              "      <td>1974</td>\n",
              "      <td>58.0</td>\n",
              "      <td>2</td>\n",
              "      <td>6.0</td>\n",
              "      <td>1.0</td>\n",
              "      <td>2670.0</td>\n",
              "    </tr>\n",
              "    <tr>\n",
              "      <th>6</th>\n",
              "      <td>1974</td>\n",
              "      <td>30.0</td>\n",
              "      <td>1</td>\n",
              "      <td>5.0</td>\n",
              "      <td>4.0</td>\n",
              "      <td>6870.0</td>\n",
              "    </tr>\n",
              "    <tr>\n",
              "      <th>7</th>\n",
              "      <td>1974</td>\n",
              "      <td>48.0</td>\n",
              "      <td>1</td>\n",
              "      <td>5.0</td>\n",
              "      <td>4.0</td>\n",
              "      <td>7860.0</td>\n",
              "    </tr>\n",
              "  </tbody>\n",
              "</table>\n",
              "</div>\n",
              "      <button class=\"colab-df-convert\" onclick=\"convertToInteractive('df-c97ac011-fae9-4978-be58-0044cd58dc25')\"\n",
              "              title=\"Convert this dataframe to an interactive table.\"\n",
              "              style=\"display:none;\">\n",
              "        \n",
              "  <svg xmlns=\"http://www.w3.org/2000/svg\" height=\"24px\"viewBox=\"0 0 24 24\"\n",
              "       width=\"24px\">\n",
              "    <path d=\"M0 0h24v24H0V0z\" fill=\"none\"/>\n",
              "    <path d=\"M18.56 5.44l.94 2.06.94-2.06 2.06-.94-2.06-.94-.94-2.06-.94 2.06-2.06.94zm-11 1L8.5 8.5l.94-2.06 2.06-.94-2.06-.94L8.5 2.5l-.94 2.06-2.06.94zm10 10l.94 2.06.94-2.06 2.06-.94-2.06-.94-.94-2.06-.94 2.06-2.06.94z\"/><path d=\"M17.41 7.96l-1.37-1.37c-.4-.4-.92-.59-1.43-.59-.52 0-1.04.2-1.43.59L10.3 9.45l-7.72 7.72c-.78.78-.78 2.05 0 2.83L4 21.41c.39.39.9.59 1.41.59.51 0 1.02-.2 1.41-.59l7.78-7.78 2.81-2.81c.8-.78.8-2.07 0-2.86zM5.41 20L4 18.59l7.72-7.72 1.47 1.35L5.41 20z\"/>\n",
              "  </svg>\n",
              "      </button>\n",
              "      \n",
              "  <style>\n",
              "    .colab-df-container {\n",
              "      display:flex;\n",
              "      flex-wrap:wrap;\n",
              "      gap: 12px;\n",
              "    }\n",
              "\n",
              "    .colab-df-convert {\n",
              "      background-color: #E8F0FE;\n",
              "      border: none;\n",
              "      border-radius: 50%;\n",
              "      cursor: pointer;\n",
              "      display: none;\n",
              "      fill: #1967D2;\n",
              "      height: 32px;\n",
              "      padding: 0 0 0 0;\n",
              "      width: 32px;\n",
              "    }\n",
              "\n",
              "    .colab-df-convert:hover {\n",
              "      background-color: #E2EBFA;\n",
              "      box-shadow: 0px 1px 2px rgba(60, 64, 67, 0.3), 0px 1px 3px 1px rgba(60, 64, 67, 0.15);\n",
              "      fill: #174EA6;\n",
              "    }\n",
              "\n",
              "    [theme=dark] .colab-df-convert {\n",
              "      background-color: #3B4455;\n",
              "      fill: #D2E3FC;\n",
              "    }\n",
              "\n",
              "    [theme=dark] .colab-df-convert:hover {\n",
              "      background-color: #434B5C;\n",
              "      box-shadow: 0px 1px 3px 1px rgba(0, 0, 0, 0.15);\n",
              "      filter: drop-shadow(0px 1px 2px rgba(0, 0, 0, 0.3));\n",
              "      fill: #FFFFFF;\n",
              "    }\n",
              "  </style>\n",
              "\n",
              "      <script>\n",
              "        const buttonEl =\n",
              "          document.querySelector('#df-c97ac011-fae9-4978-be58-0044cd58dc25 button.colab-df-convert');\n",
              "        buttonEl.style.display =\n",
              "          google.colab.kernel.accessAllowed ? 'block' : 'none';\n",
              "\n",
              "        async function convertToInteractive(key) {\n",
              "          const element = document.querySelector('#df-c97ac011-fae9-4978-be58-0044cd58dc25');\n",
              "          const dataTable =\n",
              "            await google.colab.kernel.invokeFunction('convertToInteractive',\n",
              "                                                     [key], {});\n",
              "          if (!dataTable) return;\n",
              "\n",
              "          const docLinkHtml = 'Like what you see? Visit the ' +\n",
              "            '<a target=\"_blank\" href=https://colab.research.google.com/notebooks/data_table.ipynb>data table notebook</a>'\n",
              "            + ' to learn more about interactive tables.';\n",
              "          element.innerHTML = '';\n",
              "          dataTable['output_type'] = 'display_data';\n",
              "          await google.colab.output.renderOutput(dataTable, element);\n",
              "          const docLink = document.createElement('div');\n",
              "          docLink.innerHTML = docLinkHtml;\n",
              "          element.appendChild(docLink);\n",
              "        }\n",
              "      </script>\n",
              "    </div>\n",
              "  </div>\n",
              "  "
            ]
          },
          "metadata": {},
          "execution_count": 8
        }
      ]
    },
    {
      "cell_type": "markdown",
      "source": [
        "# **Fraction of Bankers**\n",
        "\n",
        "\n",
        "---\n",
        "### Code for Banking and related activities is '6870'. Since Linda happens to be a bank teller it is only plausible to iron out the rest of the professions.\n"
      ],
      "metadata": {
        "id": "DdwgNmH4CxZq"
      }
    },
    {
      "cell_type": "code",
      "source": [
        "banker=(gss['indus10']==6870)\n",
        "banker.head()"
      ],
      "metadata": {
        "colab": {
          "base_uri": "https://localhost:8080/"
        },
        "id": "WetFaYnLCfRx",
        "outputId": "af3d1fec-b3eb-432b-d0f3-42b4fdd22ade"
      },
      "execution_count": null,
      "outputs": [
        {
          "output_type": "execute_result",
          "data": {
            "text/plain": [
              "caseid\n",
              "1    False\n",
              "2    False\n",
              "5    False\n",
              "6     True\n",
              "7    False\n",
              "Name: indus10, dtype: bool"
            ]
          },
          "metadata": {},
          "execution_count": 11
        }
      ]
    },
    {
      "cell_type": "code",
      "source": [
        "#let's see how may bankers are there\n",
        "banker.sum()"
      ],
      "metadata": {
        "colab": {
          "base_uri": "https://localhost:8080/"
        },
        "id": "4ELxjR-9DDsY",
        "outputId": "7fb3cd2e-da01-4672-d322-7e33b0ba7fe9"
      },
      "execution_count": null,
      "outputs": [
        {
          "output_type": "execute_result",
          "data": {
            "text/plain": [
              "728"
            ]
          },
          "metadata": {},
          "execution_count": 12
        }
      ]
    },
    {
      "cell_type": "code",
      "source": [
        "#let's compute the fraction of bankers among the total surveyed people\n",
        "banker.mean()"
      ],
      "metadata": {
        "colab": {
          "base_uri": "https://localhost:8080/"
        },
        "id": "rBmgNxj_DS5N",
        "outputId": "7c5e23c3-ea16-4582-eb05-00d74dfd6cc0"
      },
      "execution_count": null,
      "outputs": [
        {
          "output_type": "execute_result",
          "data": {
            "text/plain": [
              "0.014769730168391155"
            ]
          },
          "metadata": {},
          "execution_count": 13
        }
      ]
    },
    {
      "cell_type": "code",
      "source": [
        "# Let's just put the code in a function \n",
        "\n",
        "def prob(A):\n",
        "  return A.mean()"
      ],
      "metadata": {
        "id": "lVTQhdNiDsrd"
      },
      "execution_count": null,
      "outputs": []
    },
    {
      "cell_type": "code",
      "source": [
        "#let's test it out \n",
        "prob(banker)"
      ],
      "metadata": {
        "colab": {
          "base_uri": "https://localhost:8080/"
        },
        "id": "P-I8a2mrD8gc",
        "outputId": "30ce20c4-163f-49c0-8a5c-3d22d2d18c24"
      },
      "execution_count": null,
      "outputs": [
        {
          "output_type": "execute_result",
          "data": {
            "text/plain": [
              "0.014769730168391155"
            ]
          },
          "metadata": {},
          "execution_count": 15
        }
      ]
    },
    {
      "cell_type": "markdown",
      "source": [
        "All ok, now let's look at another variable in the dataset. The values of the column sex are ecoded:\n",
        "\n",
        "\n",
        "1.   Male\n",
        "2.   Female\n",
        "\n"
      ],
      "metadata": {
        "id": "rcFoGS0SEQtX"
      }
    },
    {
      "cell_type": "code",
      "source": [
        "#let's find out how many are females\n",
        "female=(gss['sex']==2)\n",
        "prob(female)"
      ],
      "metadata": {
        "colab": {
          "base_uri": "https://localhost:8080/"
        },
        "id": "r6gx_h_TEBy-",
        "outputId": "baafd348-bb19-41a1-ae99-3f70bbfcccbd"
      },
      "execution_count": null,
      "outputs": [
        {
          "output_type": "execute_result",
          "data": {
            "text/plain": [
              "0.5378575776019476"
            ]
          },
          "metadata": {},
          "execution_count": 16
        }
      ]
    },
    {
      "cell_type": "markdown",
      "source": [
        "**Political Views and Parties**\n",
        "\n",
        "\n",
        "1.   Extremely Liberal\n",
        "2.   Liberal\n",
        "3.   Slightly Liberal\n",
        "4. Moderate\n",
        "5. Conservative\n",
        "6. Extremely conservative\n",
        "\n",
        "**Political Party**\n",
        "\n",
        "0.   Strong Democrat\n",
        "1.   Not Strong Democrat\n",
        "2.   Independent,near democrat\n",
        "3.   Independent\n",
        "4.   Independent,near republican\n",
        "5.   Not strong republican\n",
        "6.   Strong republican\n",
        "7.   others\n",
        "\n",
        "\n",
        "\n",
        "\n"
      ],
      "metadata": {
        "id": "5caK81Y8Ewnd"
      }
    },
    {
      "cell_type": "code",
      "source": [
        "#let's find out how many are liberals among them\n",
        "liberal= (gss['polviews']<=3)\n",
        "prob(liberal)"
      ],
      "metadata": {
        "colab": {
          "base_uri": "https://localhost:8080/"
        },
        "id": "hkDGvuqZEvqb",
        "outputId": "df1182d5-741f-4008-f48a-c7cfd59db605"
      },
      "execution_count": null,
      "outputs": [
        {
          "output_type": "execute_result",
          "data": {
            "text/plain": [
              "0.27374721038750255"
            ]
          },
          "metadata": {},
          "execution_count": 17
        }
      ]
    },
    {
      "cell_type": "code",
      "source": [
        "#let's find out how many of them are democrats\n",
        "democrat= (gss['partyid']<=1)\n",
        "prob(democrat)"
      ],
      "metadata": {
        "colab": {
          "base_uri": "https://localhost:8080/"
        },
        "id": "C4k-hSs0EooO",
        "outputId": "0e5b2b4f-e184-4434-fee2-0867721ea059"
      },
      "execution_count": null,
      "outputs": [
        {
          "output_type": "execute_result",
          "data": {
            "text/plain": [
              "0.3662609048488537"
            ]
          },
          "metadata": {},
          "execution_count": 18
        }
      ]
    },
    {
      "cell_type": "markdown",
      "source": [
        "# **Conjunction**\n",
        "\n",
        "\n",
        "---\n",
        "\n",
        "\n",
        "Conjunction is the definition of having two premises (e.g. **A** & **B**) and if both of them are true then the conclusion is also true and vice-versa.\n",
        "\n",
        "*N.B. This is only applicable if the premises are of boolean datatypes or categorical datatypes that consists of binary classes*\n",
        "\n",
        "\n"
      ],
      "metadata": {
        "id": "aqlvTQiVGnwn"
      }
    },
    {
      "cell_type": "code",
      "source": [
        "# So we have previously devised the probability of a subject being a banker and a subject being democrat (Separately)\n",
        "# Now we are going to corrborate the probability of a banker being a democrat\n",
        "\n",
        "prob(banker & democrat & female)"
      ],
      "metadata": {
        "colab": {
          "base_uri": "https://localhost:8080/"
        },
        "id": "0zPZZ_NvGcT6",
        "outputId": "f0dbd176-ed87-437a-9250-e8ae65146cec"
      },
      "execution_count": null,
      "outputs": [
        {
          "output_type": "execute_result",
          "data": {
            "text/plain": [
              "0.003956177723676202"
            ]
          },
          "metadata": {},
          "execution_count": 20
        }
      ]
    },
    {
      "cell_type": "markdown",
      "source": [
        "# **Conditional Probability**\n",
        "\n",
        "\n",
        "\n",
        "*   What are the chances of **B** being **True** given the fact that **A** is **True** ?\n",
        "\n",
        "``Here the conclusion of Premise 'A' affects the value of 'B' being of value more or less than 0.5 ``  More than a half depicts that most of 'B' is present because of 'A' being **True** and the opposite.\n",
        "\n",
        "\n",
        "\n",
        "Let's start out like this:\n",
        "\n",
        "* Of all the respondents that are ***liberals**, how many are ***democrats**?"
      ],
      "metadata": {
        "id": "HXLCqhb-LKac"
      }
    },
    {
      "cell_type": "code",
      "source": [
        "democrat_liberals= democrat[liberal]\n",
        "\n",
        "prob(democrat_liberals)"
      ],
      "metadata": {
        "colab": {
          "base_uri": "https://localhost:8080/"
        },
        "id": "TpYYHWKeLKB9",
        "outputId": "56de32ed-c887-4e36-af31-2bf729b790e2"
      },
      "execution_count": null,
      "outputs": [
        {
          "output_type": "execute_result",
          "data": {
            "text/plain": [
              "0.5206403320240125"
            ]
          },
          "metadata": {},
          "execution_count": 21
        }
      ]
    },
    {
      "cell_type": "markdown",
      "source": [
        "So more than a half of the liberals are democrats"
      ],
      "metadata": {
        "id": "f49cWSk2N4U6"
      }
    },
    {
      "cell_type": "code",
      "source": [
        "#let's try to find out how  many are females among the bankers\n",
        "\n",
        "female_bankers=female[banker]\n",
        "prob(female_bankers)"
      ],
      "metadata": {
        "colab": {
          "base_uri": "https://localhost:8080/"
        },
        "id": "9kzckS0XOVLc",
        "outputId": "22e7cd4a-3549-4f78-daf2-b001e166d513"
      },
      "execution_count": null,
      "outputs": [
        {
          "output_type": "execute_result",
          "data": {
            "text/plain": [
              "0.7706043956043956"
            ]
          },
          "metadata": {},
          "execution_count": 23
        }
      ]
    },
    {
      "cell_type": "code",
      "source": [
        "%cd '/content/drive/MyDrive/Think Bayes/'"
      ],
      "metadata": {
        "colab": {
          "base_uri": "https://localhost:8080/"
        },
        "id": "dUJgQQfYJSer",
        "outputId": "ea62c297-8d22-484e-ac96-6f61458233ea"
      },
      "execution_count": null,
      "outputs": [
        {
          "output_type": "stream",
          "name": "stdout",
          "text": [
            "/content/drive/MyDrive/Think Bayes\n"
          ]
        }
      ]
    },
    {
      "cell_type": "code",
      "source": [
        "!git init"
      ],
      "metadata": {
        "colab": {
          "base_uri": "https://localhost:8080/"
        },
        "id": "mPM5zHoBPr22",
        "outputId": "c1209917-4453-47fd-e8f6-796cfef2e746"
      },
      "execution_count": null,
      "outputs": [
        {
          "output_type": "stream",
          "name": "stdout",
          "text": [
            "Initialized empty Git repository in /content/drive/MyDrive/Think Bayes/.git/\n"
          ]
        }
      ]
    },
    {
      "cell_type": "code",
      "source": [
        "!git add ."
      ],
      "metadata": {
        "id": "qryDBQTTQGQ0"
      },
      "execution_count": null,
      "outputs": []
    },
    {
      "cell_type": "code",
      "source": [
        "!git status"
      ],
      "metadata": {
        "colab": {
          "base_uri": "https://localhost:8080/"
        },
        "id": "aa5YnbxPQQFE",
        "outputId": "f42fb9ab-402c-491f-ed9b-092fb0593661"
      },
      "execution_count": null,
      "outputs": [
        {
          "output_type": "stream",
          "name": "stdout",
          "text": [
            "On branch master\n",
            "\n",
            "No commits yet\n",
            "\n",
            "Changes to be committed:\n",
            "  (use \"git rm --cached <file>...\" to unstage)\n",
            "\n",
            "\t\u001b[32mnew file:   Chapter 1/Dataset/gss_bayes.csv\u001b[m\n",
            "\t\u001b[32mnew file:   Chapter 1/Start.ipynb\u001b[m\n",
            "\n",
            "Changes not staged for commit:\n",
            "  (use \"git add <file>...\" to update what will be committed)\n",
            "  (use \"git checkout -- <file>...\" to discard changes in working directory)\n",
            "\n",
            "\t\u001b[31mmodified:   Chapter 1/Start.ipynb\u001b[m\n",
            "\n"
          ]
        }
      ]
    },
    {
      "cell_type": "code",
      "source": [
        "!git commit -m \"Chapter 1\""
      ],
      "metadata": {
        "colab": {
          "base_uri": "https://localhost:8080/"
        },
        "id": "SA1Z6KHCQSOU",
        "outputId": "b5121163-bfef-407b-a853-be424e6b352c"
      },
      "execution_count": null,
      "outputs": [
        {
          "output_type": "stream",
          "name": "stdout",
          "text": [
            "\n",
            "*** Please tell me who you are.\n",
            "\n",
            "Run\n",
            "\n",
            "  git config --global user.email \"you@example.com\"\n",
            "  git config --global user.name \"Your Name\"\n",
            "\n",
            "to set your account's default identity.\n",
            "Omit --global to set the identity only in this repository.\n",
            "\n",
            "fatal: unable to auto-detect email address (got 'root@8df02c6c04f4.(none)')\n"
          ]
        }
      ]
    },
    {
      "cell_type": "code",
      "source": [
        "!git config --global user.email \"zehan.kareem@gmail.com\"\n",
        "!git config --global user.name \"iamzehan\"\n",
        "!git config --global git"
      ],
      "metadata": {
        "id": "WwSysP3cQV4F"
      },
      "execution_count": null,
      "outputs": []
    },
    {
      "cell_type": "code",
      "source": [
        "!git commit -m \"Chapter 1\""
      ],
      "metadata": {
        "colab": {
          "base_uri": "https://localhost:8080/"
        },
        "id": "GFLPJAWFQpkm",
        "outputId": "76f8a9a4-0f33-4038-df71-f630e45ea354"
      },
      "execution_count": null,
      "outputs": [
        {
          "output_type": "stream",
          "name": "stdout",
          "text": [
            "[master (root-commit) 22e328a] Chapter 1\n",
            " 2 files changed, 49292 insertions(+)\n",
            " create mode 100644 Chapter 1/Dataset/gss_bayes.csv\n",
            " create mode 100644 Chapter 1/Start.ipynb\n"
          ]
        }
      ]
    },
    {
      "cell_type": "code",
      "source": [
        "!git branch -M main"
      ],
      "metadata": {
        "id": "gPrg4kqrQr_L"
      },
      "execution_count": null,
      "outputs": []
    },
    {
      "cell_type": "code",
      "source": [
        "!git remote add origin https://github.com/iamzehan/thinking_statistics.git"
      ],
      "metadata": {
        "id": "NQQxrKy3Q0ub"
      },
      "execution_count": null,
      "outputs": []
    },
    {
      "cell_type": "code",
      "source": [
        "!git push -u origin main"
      ],
      "metadata": {
        "colab": {
          "base_uri": "https://localhost:8080/"
        },
        "id": "fXa9tR1-Q4Cz",
        "outputId": "e30cb7f9-055a-4a07-ccd6-10de06ffd390"
      },
      "execution_count": null,
      "outputs": [
        {
          "output_type": "stream",
          "name": "stdout",
          "text": [
            "fatal: could not read Username for 'https://github.com': No such device or address\n"
          ]
        }
      ]
    },
    {
      "cell_type": "code",
      "source": [
        ""
      ],
      "metadata": {
        "id": "RYjHbhURQ8Bs"
      },
      "execution_count": null,
      "outputs": []
    }
  ]
}